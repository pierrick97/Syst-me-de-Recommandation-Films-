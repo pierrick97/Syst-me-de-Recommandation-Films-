{
 "cells": [
  {
   "cell_type": "markdown",
   "metadata": {},
   "source": [
    "# 1.  Import des données "
   ]
  },
  {
   "cell_type": "code",
   "execution_count": 1,
   "metadata": {},
   "outputs": [],
   "source": [
    "import csv\n",
    "import numpy as np\n",
    "%matplotlib inline\n",
    "# pour ipyhton notebook \n",
    "import matplotlib as plt\n",
    "import pylab as pl"
   ]
  },
  {
   "cell_type": "code",
   "execution_count": 2,
   "metadata": {},
   "outputs": [
    {
     "name": "stdout",
     "output_type": "stream",
     "text": [
      "[['943 users'], ['1682 items'], ['100000 ratings']]\n"
     ]
    }
   ],
   "source": [
    "with open('u.info', 'r') as f:\n",
    "    reader = csv.reader(f, delimiter = '\\n')\n",
    "    Info = list(reader)\n",
    "print(Info)"
   ]
  },
  {
   "cell_type": "markdown",
   "metadata": {},
   "source": [
    "## Création de deux fonctions utiles pour importer les fichiers"
   ]
  },
  {
   "cell_type": "code",
   "execution_count": 3,
   "metadata": {},
   "outputs": [],
   "source": [
    "def open_numeric(baseFileName, fieldnames=['user','movie','rating','datestamp'], delimiter='\\t'):\n",
    "    \"\"\"\n",
    "    fonction généralisée pour lire les fichiers numériques\n",
    "    \"\"\"\n",
    "    with open(baseFileName, 'r') as f:\n",
    "         reader = csv.DictReader(f, delimiter = delimiter, fieldnames=fieldnames)\n",
    "         # create a dict out of reader, converting all values to integers\n",
    "         return [dict([key, int(value)] for key, value in row.items()) for row in list(reader)]\n"
   ]
  },
  {
   "cell_type": "code",
   "execution_count": 4,
   "metadata": {},
   "outputs": [],
   "source": [
    "def open_file(baseFileName, fieldnames=None , delimiter='|'):    \n",
    "    \"\"\"\n",
    "    fonction généralisée pour lire les fichiers non numériques\n",
    "    \"\"\"   \n",
    "    with open(baseFileName, 'r') as f:\n",
    "         reader = csv.DictReader(f, delimiter = delimiter,fieldnames=fieldnames)\n",
    "         return list(reader)"
   ]
  },
  {
   "cell_type": "markdown",
   "metadata": {},
   "source": [
    " ##  Création des deux directionnaires des ratings (20% et 80%)"
   ]
  },
  {
   "cell_type": "code",
   "execution_count": 5,
   "metadata": {},
   "outputs": [],
   "source": [
    "baseUserItem=open_numeric(\"u1.base\")"
   ]
  },
  {
   "cell_type": "code",
   "execution_count": 6,
   "metadata": {},
   "outputs": [],
   "source": [
    "testUserItem=open_numeric(\"u1.test\")\n"
   ]
  },
  {
   "cell_type": "markdown",
   "metadata": {},
   "source": [
    "## Informations sur les User / Occupation /Items (movies) / Genres "
   ]
  },
  {
   "cell_type": "code",
   "execution_count": 7,
   "metadata": {},
   "outputs": [],
   "source": [
    "User=open_file(\"u.user\", fieldnames=['userID','age','gender','occupation','zipcode'])\n"
   ]
  },
  {
   "cell_type": "code",
   "execution_count": 8,
   "metadata": {},
   "outputs": [],
   "source": [
    "with open('u.occupation', 'r') as f: #je n'ai pas réussi a utiliser la fonction généralisée, la doc de csv.reader n'est pas à jour\n",
    "    reader = csv.reader(f)\n",
    "    Occupation = list(reader)\n"
   ]
  },
  {
   "cell_type": "code",
   "execution_count": 9,
   "metadata": {},
   "outputs": [],
   "source": [
    "Item = open_file(\"u.item\", fieldnames=['movieID', 'Title', 'releaseDate', 'videoReleaseDate','IMDb URL', 'unknown',\n",
    "                                       'Action', 'Adventure', 'Animation', 'Childrens', 'Comedy', 'Crime', 'Documentary',\n",
    "                                       'Drama','Fantasy','Film-Noir', 'Horror', 'Musical', 'Mystery','Romance', \n",
    "                                       'Sci-Fi', 'Thriller', 'War', 'Western'])\n",
    "\n"
   ]
  },
  {
   "cell_type": "code",
   "execution_count": 10,
   "metadata": {
    "scrolled": true
   },
   "outputs": [],
   "source": [
    "Genre=open_file(\"u.genre\",fieldnames=['Genre:','Numero:'])\n"
   ]
  },
  {
   "cell_type": "markdown",
   "metadata": {},
   "source": [
    "## 2.  Création de la matrice R (M x N) qui contient les notes des films Ni noté par le user Mi (ou 0 si film non noté)"
   ]
  },
  {
   "cell_type": "markdown",
   "metadata": {},
   "source": [
    "M = nombre de users ; \n",
    "N = nb de films"
   ]
  },
  {
   "cell_type": "code",
   "execution_count": 11,
   "metadata": {},
   "outputs": [
    {
     "data": {
      "text/plain": [
       "<matplotlib.image.AxesImage at 0xbfd8210>"
      ]
     },
     "execution_count": 11,
     "metadata": {},
     "output_type": "execute_result"
    },
    {
     "data": {
      "image/png": "[encoded data removed]",
      "text/plain": [
       "<Figure size 432x288 with 1 Axes>"
      ]
     },
     "metadata": {
      "needs_background": "light"
     },
     "output_type": "display_data"
    }
   ],
   "source": [
    "# Remplir la matrice utilisateur-item \n",
    "NbUsers = len(User)\n",
    "NbItems= len(Item)\n",
    "R = np.zeros((NbUsers, NbItems))\n",
    "for row in baseUserItem:\n",
    "    R[row['user']-1,row['movie']-1] = row['rating']\n",
    "pl.imshow(R,interpolation='none')"
   ]
  },
  {
   "cell_type": "code",
   "execution_count": 12,
   "metadata": {},
   "outputs": [
    {
     "name": "stdout",
     "output_type": "stream",
     "text": [
      "(943, 1682)\n"
     ]
    }
   ],
   "source": [
    "print(R.shape)"
   ]
  },
  {
   "cell_type": "markdown",
   "metadata": {},
   "source": [
    "# 3.   Approximation bas-rang par SVD"
   ]
  },
  {
   "cell_type": "markdown",
   "metadata": {},
   "source": [
    " ## Remplissage matrice RC (note moyenne film)\n"
   ]
  },
  {
   "cell_type": "code",
   "execution_count": 13,
   "metadata": {},
   "outputs": [],
   "source": [
    "mean_items=[0 for row in range(NbItems)] #liste des moyenne par colonne(film)\n",
    "for col in range(NbItems):\n",
    "   rating_number=0 #savoir le nombre d'éléments quon additionne pour diviser la moyenne \n",
    "   for user_rating in R[:,col]:\n",
    "       if user_rating!=0: # on ne prend que les valeurs non nul\n",
    "           mean_items[col]+=user_rating\n",
    "           rating_number+=1\n",
    "   if rating_number!=0: #il doit y avoir au moins une note par film\n",
    "       mean_items[col]=mean_items[col]/rating_number  "
   ]
  },
  {
   "cell_type": "code",
   "execution_count": 14,
   "metadata": {},
   "outputs": [
    {
     "data": {
      "text/plain": [
       "<matplotlib.image.AxesImage at 0xc059bd0>"
      ]
     },
     "execution_count": 14,
     "metadata": {},
     "output_type": "execute_result"
    },
    {
     "data": {
      "image/png": "[encoded data removed]",
      "text/plain": [
       "<Figure size 432x288 with 1 Axes>"
      ]
     },
     "metadata": {
      "needs_background": "light"
     },
     "output_type": "display_data"
    }
   ],
   "source": [
    "RC=R.copy() #matrice remplie par note moyenne film\n",
    "\n",
    "for col in range(NbItems):\n",
    "    for row in range(NbUsers):\n",
    "        if RC[row, col]==0:\n",
    "            RC[row, col]=mean_items[col]\n",
    "            \n",
    "pl.imshow(RC,interpolation='none')"
   ]
  },
  {
   "cell_type": "markdown",
   "metadata": {},
   "source": [
    " ## Remplissage matrice RR  (note moyenne user)\n"
   ]
  },
  {
   "cell_type": "code",
   "execution_count": 15,
   "metadata": {},
   "outputs": [],
   "source": [
    "mean_users=[0 for row in range(NbUsers)] #liste des moyenne par lignes(users)\n",
    "for row in range(NbUsers):\n",
    "   rating_number=0 #savoir le nombre d'éléments quon additionne pour diviser la moyenne\n",
    "   for user_rating in R[row,:]:\n",
    "       if user_rating!=0:\n",
    "           mean_users[row]+=user_rating\n",
    "           rating_number+=1\n",
    "   if rating_number!=0:    #il doit y avoir au moins une note par film   \n",
    "       mean_users[row]=mean_users[row]/rating_number      "
   ]
  },
  {
   "cell_type": "code",
   "execution_count": 16,
   "metadata": {},
   "outputs": [
    {
     "data": {
      "text/plain": [
       "<matplotlib.image.AxesImage at 0xc0a9310>"
      ]
     },
     "execution_count": 16,
     "metadata": {},
     "output_type": "execute_result"
    },
    {
     "data": {
      "image/png": "[encoded data removed]",
      "text/plain": [
       "<Figure size 432x288 with 1 Axes>"
      ]
     },
     "metadata": {
      "needs_background": "light"
     },
     "output_type": "display_data"
    }
   ],
   "source": [
    "RR=R.copy() #matrice remplie par note moyenne user\n",
    "\n",
    "for row in range(NbUsers):\n",
    "    for col in range(NbItems):\n",
    "        if RR[row, col]==0:\n",
    "            RR[row, col]=mean_users[row]\n",
    "\n",
    "pl.imshow(RR,interpolation='none') "
   ]
  },
  {
   "cell_type": "markdown",
   "metadata": {},
   "source": [
    "## Décomposition en valeurs singulières des matrices RR et RC"
   ]
  },
  {
   "cell_type": "code",
   "execution_count": 17,
   "metadata": {},
   "outputs": [],
   "source": [
    "def svd_matrice(A):\n",
    "    \"\"\" \n",
    "    A : matrice de taille MxN (ici M < N)\n",
    "    Fonction qui réalise la décomposition en valeurs singulières de A tq : A = U x Sigma x VT\n",
    "    Retourne :\n",
    "    U : matrice de taille MxM unitaire\n",
    "    Sigma : matrice  diagonal de taille MxN \n",
    "    VT : Transpose de la matrice V qui est de taille NxN unitaire\n",
    "    \"\"\"\n",
    "    U, s, VT = np.linalg.svd(A, full_matrices=True)   # s est un vecteur de taille M (M < N) contenant les coeffs \n",
    "    S = np.zeros((A.shape[0], A.shape[1])) # on créé S une matrice de taille M x N\n",
    "    m = min(A.shape[0], A.shape[1]) # ici M < N donc on aura m = M\n",
    "    S[:m, :m] = np.diag(s) # On rempli S par la matrice carre diagonale MxM contenant les coeffs\n",
    "    return U, S, VT\n",
    "    \n",
    "    "
   ]
  },
  {
   "cell_type": "markdown",
   "metadata": {},
   "source": [
    "Calcul de Uc, Sc, VTc tq : RC = Uc x Sc x VTc\n"
   ]
  },
  {
   "cell_type": "code",
   "execution_count": 18,
   "metadata": {},
   "outputs": [
    {
     "name": "stdout",
     "output_type": "stream",
     "text": [
      "(943, 943)\n",
      "(943, 1682)\n",
      "(1682, 1682)\n",
      "A-t-on bien RC = Uc x Sc x VTc :  True\n"
     ]
    }
   ],
   "source": [
    "Uc, Sc, VTc = svd_matrice(RC)\n",
    "print(Uc.shape)\n",
    "print(Sc.shape)\n",
    "print(VTc.shape)\n",
    "print(\"A-t-on bien RC = Uc x Sc x VTc : \", np.allclose(RC, np.dot(Uc, np.dot(Sc, VTc))))"
   ]
  },
  {
   "cell_type": "markdown",
   "metadata": {},
   "source": [
    "Calcul de Ur, Sr, VTr tq : RR = Ur x Sr x VTr"
   ]
  },
  {
   "cell_type": "code",
   "execution_count": 19,
   "metadata": {},
   "outputs": [
    {
     "name": "stdout",
     "output_type": "stream",
     "text": [
      "(943, 943)\n",
      "(943, 1682)\n",
      "(1682, 1682)\n",
      "A-t-on bien RR = Ur x Sr x VTr :  True\n"
     ]
    }
   ],
   "source": [
    "Ur, Sr, VTr = svd_matrice(RR)\n",
    "print(Ur.shape)\n",
    "print(Sr.shape)\n",
    "print(VTr.shape)\n",
    "print(\"A-t-on bien RR = Ur x Sr x VTr : \", np.allclose(RR, np.dot(Ur, np.dot(Sr, VTr))))"
   ]
  },
  {
   "cell_type": "markdown",
   "metadata": {},
   "source": [
    "Calcul de RRk et RCk les approximations bas-rang UkSkV′k des matrices RR et RC : "
   ]
  },
  {
   "cell_type": "code",
   "execution_count": 20,
   "metadata": {},
   "outputs": [],
   "source": [
    "liste_Srk = []\n",
    "liste_Urk = []\n",
    "liste_VTrk = []\n",
    "liste_RRk = []\n",
    "for k in range(1,31):\n",
    "    Srk = Sr[:k, :k]  #on remplie SS (matrice diagonale remplie des k premiers coeffs) \n",
    "      # matrice de rang k\n",
    "    liste_Srk.append(Srk)\n",
    "    Urk = Ur[:,:k]\n",
    "    VTrk = VTr[:k,:]\n",
    "    RRk = np.dot(Urk,np.dot(Srk,VTrk))\n",
    "    liste_Urk.append(Urk)\n",
    "    liste_VTrk.append(VTrk)\n",
    "    liste_RRk.append(RRk)\n"
   ]
  },
  {
   "cell_type": "code",
   "execution_count": 21,
   "metadata": {},
   "outputs": [],
   "source": [
    "liste_Sck = []\n",
    "liste_Uck = []\n",
    "liste_VTck = []\n",
    "liste_RCk = []\n",
    "for k in range(1,31):\n",
    "    Sck = Sr[:k, :k]  #on remplie Sck (matrice diagonale remplie des k premiers coeffs) \n",
    "    liste_Sck.append(Sck)\n",
    "      # matrice de rang k\n",
    "    Uck = Uc[:,:k]\n",
    "    VTck = VTc[:k,:]\n",
    "    RCk = np.dot(Uck,np.dot(Sck,VTck))\n",
    "    liste_Uck.append(Uck)\n",
    "    liste_VTck.append(VTck)\n",
    "    liste_RCk.append(RCk)\n"
   ]
  },
  {
   "cell_type": "markdown",
   "metadata": {},
   "source": [
    "# 4. Qualité de la prédiction par SVD #"
   ]
  },
  {
   "cell_type": "markdown",
   "metadata": {},
   "source": [
    "## Calcul des MAE pour RCk et RRk pour k=1,...30 ##"
   ]
  },
  {
   "cell_type": "markdown",
   "metadata": {},
   "source": [
    "_Liste des matrices de prédictions RC pour k allant de 1 à 30 :_"
   ]
  },
  {
   "cell_type": "code",
   "execution_count": 22,
   "metadata": {},
   "outputs": [],
   "source": [
    "liste_matrices_predictions_RC = []\n",
    "for k in range (0,len(liste_Sck)):\n",
    "    matrice_predictions_RC = np.dot(liste_Uck[k], np.dot(liste_Sck[k], liste_VTck[k]))\n",
    "    liste_matrices_predictions_RC.append(matrice_predictions_RC)"
   ]
  },
  {
   "cell_type": "markdown",
   "metadata": {},
   "source": [
    "_Liste des matrices de prédictions RR pour k allant de 1 à 30 :_"
   ]
  },
  {
   "cell_type": "code",
   "execution_count": 23,
   "metadata": {},
   "outputs": [],
   "source": [
    "liste_matrices_predictions_RR = []\n",
    "for k in range (0,20):\n",
    "    matrice_predictions_RR = np.dot(liste_Urk[k], np.dot(liste_Srk[k], liste_VTrk[k]))\n",
    "    liste_matrices_predictions_RR.append(matrice_predictions_RR)"
   ]
  },
  {
   "cell_type": "markdown",
   "metadata": {},
   "source": [
    "_On retrouve bien la même chose !!!!!!!!!!!!!!_"
   ]
  },
  {
   "cell_type": "code",
   "execution_count": 24,
   "metadata": {},
   "outputs": [],
   "source": [
    "NbUsers = len(User)\n",
    "NbItems= len(Item)\n",
    "Rtest = np.zeros((NbUsers, NbItems))\n",
    "for row in testUserItem:\n",
    "    Rtest[row['user']-1,row['movie']-1] = row['rating']"
   ]
  },
  {
   "cell_type": "code",
   "execution_count": 29,
   "metadata": {},
   "outputs": [
    {
     "name": "stdout",
     "output_type": "stream",
     "text": [
      "[0.8755626528476183, 0.8664944647850105, 0.8676464784656093, 0.8648093568273458, 0.8631411597777001, 0.8619107560120148, 0.8611054412810321, 0.8606151633758613, 0.8608546374610815, 0.8603667899253087, 0.8601301391139503, 0.860355770913315, 0.8601724309504787, 0.8603689779789604, 0.8604841813281874, 0.8607054444533127, 0.8606621536649717, 0.860958730799719, 0.8613370888454032, 0.8611876139121066, 0.8614080304088421, 0.861392516392809, 0.8615927023761096, 0.8614301597406898, 0.8618318099175005, 0.8623542407524466, 0.8631075560101493, 0.8631855882948412, 0.8631736761567056, 0.8637757297657096]\n"
     ]
    }
   ],
   "source": [
    "liste_MAEc = []\n",
    "for k in range(0,30):\n",
    "    errorRating = []\n",
    "    for i in range(0,Rtest.shape[0]):\n",
    "        for j in range(0,Rtest.shape[1]):\n",
    "            if Rtest[i][j] != 0:\n",
    "                errorRating.append(liste_matrices_predictions_RC[k][i][j]-Rtest[i][j])\n",
    "    liste_MAEc.append(np.mean(np.abs(errorRating)))\n",
    "\n",
    "print(liste_MAEc) \n"
   ]
  },
  {
   "cell_type": "code",
   "execution_count": 33,
   "metadata": {},
   "outputs": [
    {
     "name": "stdout",
     "output_type": "stream",
     "text": [
      "[0.8326768692021651, 0.8211064444122338, 0.8120213134397177, 0.8111105452391719, 0.8087415447159854, 0.8081383533467984, 0.8061760029475273, 0.8051129430430015, 0.8052048904261178, 0.8052520355623543, 0.8056244360281737, 0.805172671236107, 0.8050435806418521, 0.8050184584915536, 0.8049808085027975, 0.8052217080662878, 0.8049271515519609, 0.8049848542235917, 0.8052379530650762, 0.805884106762133]\n"
     ]
    }
   ],
   "source": [
    "liste_MAEr = []\n",
    "for k in range(0,20):\n",
    "    errorRating = []\n",
    "    for i in range(0,Rtest.shape[0]):\n",
    "        for j in range(0,Rtest.shape[1]):\n",
    "            if Rtest[i][j] != 0:\n",
    "                errorRating.append(liste_matrices_predictions_RR[k][i][j]-Rtest[i][j])\n",
    "    liste_MAEr.append(np.mean(np.abs(errorRating)))\n",
    "\n",
    "print(liste_MAEr) "
   ]
  },
  {
   "cell_type": "code",
   "execution_count": null,
   "metadata": {},
   "outputs": [],
   "source": []
  },
  {
   "cell_type": "code",
   "execution_count": null,
   "metadata": {},
   "outputs": [],
   "source": []
  }
 ],
 "metadata": {
  "kernelspec": {
   "display_name": "Python 3",
   "language": "python",
   "name": "python3"
  },
  "language_info": {
   "codemirror_mode": {
    "name": "ipython",
    "version": 3
   },
   "file_extension": ".py",
   "mimetype": "text/x-python",
   "name": "python",
   "nbconvert_exporter": "python",
   "pygments_lexer": "ipython3",
   "version": "3.7.0"
  }
 },
 "nbformat": 4,
 "nbformat_minor": 1
}
